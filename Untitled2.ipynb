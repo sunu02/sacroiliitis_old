{
 "cells": [
  {
   "cell_type": "code",
   "execution_count": 2,
   "metadata": {
    "collapsed": true
   },
   "outputs": [],
   "source": [
    "import tensorflow as tf\n",
    "from datasets import dataset_factory\n",
    "from deployment import model_deploy"
   ]
  },
  {
   "cell_type": "code",
   "execution_count": null,
   "metadata": {
    "collapsed": true
   },
   "outputs": [],
   "source": [
    "FLAGS.dataset_name = '', FLAGS.dataset_split_name, FLAGS.dataset_dir)"
   ]
  },
  {
   "cell_type": "code",
   "execution_count": null,
   "metadata": {
    "collapsed": true
   },
   "outputs": [],
   "source": [
    "with tf.Graph().as_default():\n",
    "    #######################\n",
    "    # Config model_deploy #\n",
    "    #######################\n",
    "    deploy_config = model_deploy.DeploymentConfig(\n",
    "        num_clones=FLAGS.num_clones,\n",
    "        clone_on_cpu=FLAGS.clone_on_cpu,\n",
    "        replica_id=FLAGS.task,\n",
    "        num_replicas=FLAGS.worker_replicas,\n",
    "        num_ps_tasks=FLAGS.num_ps_tasks)\n",
    "\n",
    "    # Create global_step\n",
    "    with tf.device(deploy_config.variables_device()):\n",
    "        global_step = slim.create_global_step()\n",
    "\n",
    "    ######################\n",
    "    # Select the dataset #\n",
    "    ######################\n",
    "    dataset = dataset_factory.get_dataset(\n",
    "        FLAGS.dataset_name, FLAGS.dataset_split_name, FLAGS.dataset_dir)"
   ]
  }
 ],
 "metadata": {
  "kernelspec": {
   "display_name": "Python 3",
   "language": "python",
   "name": "python3"
  },
  "language_info": {
   "codemirror_mode": {
    "name": "ipython",
    "version": 3
   },
   "file_extension": ".py",
   "mimetype": "text/x-python",
   "name": "python",
   "nbconvert_exporter": "python",
   "pygments_lexer": "ipython3",
   "version": "3.5.0"
  }
 },
 "nbformat": 4,
 "nbformat_minor": 2
}
